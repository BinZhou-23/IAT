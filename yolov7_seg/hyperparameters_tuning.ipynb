{
 "cells": [
  {
   "cell_type": "code",
   "execution_count": 1,
   "metadata": {},
   "outputs": [
    {
     "name": "stdout",
     "output_type": "stream",
     "text": [
      "env: CLEARML_WEB_HOST=https://app.clear.ml\n",
      "env: CLEARML_API_HOST=https://api.clear.ml\n",
      "env: CLEARML_FILES_HOST=https://files.clear.ml\n",
      "env: CLEARML_API_ACCESS_KEY=GVE132ZVWIWUG44SY37K\n",
      "env: CLEARML_API_SECRET_KEY=wEosB5qYlpclIH8WaGcIZSk6ynVNLsNh6PCDg7s64TIRSlXtb2\n"
     ]
    }
   ],
   "source": [
    "%env CLEARML_WEB_HOST=https://app.clear.ml\n",
    "%env CLEARML_API_HOST=https://api.clear.ml\n",
    "%env CLEARML_FILES_HOST=https://files.clear.ml\n",
    "%env CLEARML_API_ACCESS_KEY=GVE132ZVWIWUG44SY37K\n",
    "%env CLEARML_API_SECRET_KEY=wEosB5qYlpclIH8WaGcIZSk6ynVNLsNh6PCDg7s64TIRSlXtb2"
   ]
  },
  {
   "cell_type": "code",
   "execution_count": 1,
   "metadata": {},
   "outputs": [
    {
     "name": "stderr",
     "output_type": "stream",
     "text": [
      "e:\\Users\\mm\\anaconda3\\envs\\yolov8\\lib\\site-packages\\tqdm\\auto.py:22: TqdmWarning: IProgress not found. Please update jupyter and ipywidgets. See https://ipywidgets.readthedocs.io/en/stable/user_install.html\n",
      "  from .autonotebook import tqdm as notebook_tqdm\n"
     ]
    }
   ],
   "source": [
    "from ultralytics import YOLO\n",
    "#from clearml import Task"
   ]
  },
  {
   "cell_type": "code",
   "execution_count": 3,
   "metadata": {},
   "outputs": [],
   "source": [
    "import optuna"
   ]
  },
  {
   "cell_type": "code",
   "execution_count": 3,
   "metadata": {},
   "outputs": [],
   "source": [
    "path_to_data = 'e:/yolov8/datasets/test.v1/data.yaml'\n",
    "model = YOLO('best-sg.pt')\n",
    "#model.train(data = path_to_data,epochs = 10,batch = 64)"
   ]
  },
  {
   "cell_type": "code",
   "execution_count": null,
   "metadata": {},
   "outputs": [],
   "source": [
    "metrics = model.val()\n"
   ]
  },
  {
   "cell_type": "code",
   "execution_count": 6,
   "metadata": {},
   "outputs": [
    {
     "data": {
      "text/plain": [
       "0.827019332913143"
      ]
     },
     "execution_count": 6,
     "metadata": {},
     "output_type": "execute_result"
    }
   ],
   "source": [
    "metrics.box.map"
   ]
  },
  {
   "cell_type": "code",
   "execution_count": 4,
   "metadata": {},
   "outputs": [
    {
     "name": "stderr",
     "output_type": "stream",
     "text": [
      "\u001b[32m[I 2023-02-27 00:55:37,122]\u001b[0m A new study created in memory with name: no-name-39851e49-fb12-456b-b673-0db00ab125e8\u001b[0m\n",
      "Ultralytics YOLOv8.0.32  Python-3.8.16 torch-1.13.1 CUDA:0 (NVIDIA GeForce RTX 2060, 6144MiB)\n",
      "\u001b[34m\u001b[1myolo\\engine\\trainer: \u001b[0mtask=segment, mode=train, model=yolov8n-seg.pt, data=e:/yolov8/datasets/test.v1/data.yaml, epochs=1, patience=50, batch=4, imgsz=640, save=True, cache=False, device=None, workers=8, project=None, name=None, exist_ok=False, pretrained=False, optimizer=SGD, verbose=True, seed=0, deterministic=True, single_cls=False, image_weights=False, rect=False, cos_lr=False, close_mosaic=10, resume=False, min_memory=False, overlap_mask=True, mask_ratio=4, dropout=False, val=True, save_json=False, save_hybrid=False, conf=0.001, iou=0.7, max_det=300, half=False, dnn=False, plots=True, source=ultralytics/assets/, show=False, save_txt=False, save_conf=False, save_crop=False, hide_labels=False, hide_conf=False, vid_stride=1, line_thickness=3, visualize=False, augment=False, agnostic_nms=False, classes=None, retina_masks=False, boxes=True, format=torchscript, keras=False, optimize=False, int8=False, dynamic=False, simplify=False, opset=17, workspace=4, nms=False, lr0=0.01, lrf=0.01, momentum=0.937, weight_decay=0.001, warmup_epochs=3.0, warmup_momentum=0.8, warmup_bias_lr=0.1, box=7.5, cls=0.5, dfl=1.5, fl_gamma=0.0, label_smoothing=0.0, nbs=64, hsv_h=0.015, hsv_s=0.7, hsv_v=0.4, degrees=0.0, translate=0.1, scale=0.5, shear=0.0, perspective=0.0, flipud=0.0, fliplr=0.5, mosaic=1.0, mixup=0.0, copy_paste=0.0, cfg=None, v5loader=False, save_dir=runs\\segment\\train43\n",
      "\n",
      "                   from  n    params  module                                       arguments                     \n",
      "  0                  -1  1       464  ultralytics.nn.modules.Conv                  [3, 16, 3, 2]                 \n",
      "  1                  -1  1      4672  ultralytics.nn.modules.Conv                  [16, 32, 3, 2]                \n",
      "  2                  -1  1      7360  ultralytics.nn.modules.C2f                   [32, 32, 1, True]             \n",
      "  3                  -1  1     18560  ultralytics.nn.modules.Conv                  [32, 64, 3, 2]                \n",
      "  4                  -1  2     49664  ultralytics.nn.modules.C2f                   [64, 64, 2, True]             \n",
      "  5                  -1  1     73984  ultralytics.nn.modules.Conv                  [64, 128, 3, 2]               \n",
      "  6                  -1  2    197632  ultralytics.nn.modules.C2f                   [128, 128, 2, True]           \n",
      "  7                  -1  1    295424  ultralytics.nn.modules.Conv                  [128, 256, 3, 2]              \n",
      "  8                  -1  1    460288  ultralytics.nn.modules.C2f                   [256, 256, 1, True]           \n",
      "  9                  -1  1    164608  ultralytics.nn.modules.SPPF                  [256, 256, 5]                 \n",
      " 10                  -1  1         0  torch.nn.modules.upsampling.Upsample         [None, 2, 'nearest']          \n",
      " 11             [-1, 6]  1         0  ultralytics.nn.modules.Concat                [1]                           \n",
      " 12                  -1  1    148224  ultralytics.nn.modules.C2f                   [384, 128, 1]                 \n",
      " 13                  -1  1         0  torch.nn.modules.upsampling.Upsample         [None, 2, 'nearest']          \n",
      " 14             [-1, 4]  1         0  ultralytics.nn.modules.Concat                [1]                           \n",
      " 15                  -1  1     37248  ultralytics.nn.modules.C2f                   [192, 64, 1]                  \n",
      " 16                  -1  1     36992  ultralytics.nn.modules.Conv                  [64, 64, 3, 2]                \n",
      " 17            [-1, 12]  1         0  ultralytics.nn.modules.Concat                [1]                           \n",
      " 18                  -1  1    123648  ultralytics.nn.modules.C2f                   [192, 128, 1]                 \n",
      " 19                  -1  1    147712  ultralytics.nn.modules.Conv                  [128, 128, 3, 2]              \n",
      " 20             [-1, 9]  1         0  ultralytics.nn.modules.Concat                [1]                           \n",
      " 21                  -1  1    493056  ultralytics.nn.modules.C2f                   [384, 256, 1]                 \n",
      " 22        [15, 18, 21]  1   1005055  ultralytics.nn.modules.Segment               [5, 32, 64, [64, 128, 256]]   \n",
      "YOLOv8n-seg summary: 261 layers, 3264591 parameters, 3264575 gradients, 12.1 GFLOPs\n",
      "\n",
      "Transferred 417/417 items from pretrained weights\n"
     ]
    },
    {
     "name": "stdout",
     "output_type": "stream",
     "text": [
      "ClearML Task: created new task id=026f1999d00843aa929ab989bbb1895d\n",
      "ClearML results page: https://app.clear.ml/projects/e0b7aea2ce8748da84a600e18e478e64/experiments/026f1999d00843aa929ab989bbb1895d/output/log\n",
      "2023-02-27 00:55:52,735 - clearml.Task - INFO - Storing jupyter notebook directly as code\n",
      "WARNING:tensorflow:Please fix your imports. Module tensorflow.python.training.tracking.util has been moved to tensorflow.python.checkpoint.checkpoint. The old module will be deleted in version 2.11.\n"
     ]
    },
    {
     "name": "stderr",
     "output_type": "stream",
     "text": [
      "\u001b[34m\u001b[1moptimizer:\u001b[0m SGD(lr=0.01) with parameter groups 66 weight(decay=0.0), 77 weight(decay=0.001), 76 bias\n",
      "\u001b[34m\u001b[1mtrain: \u001b[0mScanning E:\\yolov8\\datasets\\test.v1\\train\\labels.cache... 717 images, 2 backgrounds, 0 corrupt: 100%|██████████| 717/717 [00:00<?, ?it/s]\n",
      "\u001b[34m\u001b[1mval: \u001b[0mScanning E:\\yolov8\\datasets\\test.v1\\valid\\labels.cache... 205 images, 1 backgrounds, 0 corrupt: 100%|██████████| 205/205 [00:00<?, ?it/s]\n",
      "Image sizes 640 train, 640 val\n",
      "Using 4 dataloader workers\n",
      "Logging results to \u001b[1mruns\\segment\\train43\u001b[0m\n",
      "Starting training for 1 epochs...\n",
      "\n",
      "      Epoch    GPU_mem   box_loss   seg_loss   cls_loss   dfl_loss  Instances       Size\n",
      "        1/1     0.755G     0.3211     0.3676     0.4568     0.8173          1        640: 100%|██████████| 180/180 [00:32<00:00,  5.58it/s]\n",
      "                 Class     Images  Instances      Box(P          R      mAP50  mAP50-95)     Mask(P          R      mAP50  mAP50-95): 100%|██████████| 26/26 [00:24<00:00,  1.08it/s]\n",
      "                   all        205        377      0.879      0.977      0.929      0.824      0.879      0.977       0.93      0.806\n",
      "\n",
      "1 epochs completed in 0.026 hours.\n",
      "Optimizer stripped from runs\\segment\\train43\\weights\\last.pt, 6.8MB\n",
      "Optimizer stripped from runs\\segment\\train43\\weights\\best.pt, 6.8MB\n",
      "\n",
      "Validating runs\\segment\\train43\\weights\\best.pt...\n",
      "Ultralytics YOLOv8.0.32  Python-3.8.16 torch-1.13.1 CUDA:0 (NVIDIA GeForce RTX 2060, 6144MiB)\n",
      "YOLOv8n-seg summary (fused): 195 layers, 3259039 parameters, 0 gradients, 12.0 GFLOPs\n",
      "                 Class     Images  Instances      Box(P          R      mAP50  mAP50-95)     Mask(P          R      mAP50  mAP50-95): 100%|██████████| 26/26 [00:21<00:00,  1.20it/s]\n",
      "                   all        205        377      0.877      0.979       0.93      0.823      0.877      0.979       0.93      0.806\n",
      "             Dropiskus        205          9      0.902          1      0.995      0.921      0.902          1      0.995      0.983\n",
      "               Droplet        205        116      0.791      0.991      0.887      0.871      0.791      0.991      0.887      0.822\n",
      "              Miniskus        205         45      0.954      0.912      0.943      0.732      0.954      0.912      0.948      0.807\n",
      "               PipeJet        205        204      0.992          1      0.992      0.988      0.992          1      0.992      0.894\n",
      "              Satellit        205          3      0.748       0.99       0.83      0.602      0.748       0.99       0.83      0.522\n",
      "Speed: 0.4ms pre-process, 5.0ms inference, 0.0ms loss, 1.7ms post-process per image\n",
      "Results saved to \u001b[1mruns\\segment\\train43\u001b[0m\n"
     ]
    },
    {
     "name": "stdout",
     "output_type": "stream",
     "text": [
      "2023-02-27 00:58:16,750 - clearml.storage - INFO - Starting upload: runs\\segment\\train43\\weights\\best.pt => https://files.clear.ml/YOLOv8/hyperparameters_tuning.026f1999d00843aa929ab989bbb1895d/models/best.pt\n"
     ]
    },
    {
     "name": "stderr",
     "output_type": "stream",
     "text": [
      "Ultralytics YOLOv8.0.32  Python-3.8.16 torch-1.13.1 CUDA:0 (NVIDIA GeForce RTX 2060, 6144MiB)\n",
      "YOLOv8n-seg summary (fused): 195 layers, 3259039 parameters, 0 gradients, 12.0 GFLOPs\n",
      "\u001b[34m\u001b[1mval: \u001b[0mScanning E:\\yolov8\\datasets\\test.v1\\valid\\labels.cache... 205 images, 1 backgrounds, 0 corrupt: 100%|██████████| 205/205 [00:00<?, ?it/s]\n",
      "                 Class     Images  Instances      Box(P          R      mAP50  mAP50-95)     Mask(P          R      mAP50  mAP50-95):   0%|          | 0/52 [00:00<?, ?it/s]"
     ]
    },
    {
     "name": "stdout",
     "output_type": "stream",
     "text": [
      "2023-02-27 00:58:29,905 - clearml.Task - INFO - Completed model upload to https://files.clear.ml/YOLOv8/hyperparameters_tuning.026f1999d00843aa929ab989bbb1895d/models/best.pt\n",
      "2023-02-27 00:58:30,956 - clearml.storage - INFO - Starting upload: runs\\segment\\train43\\weights\\best.pt => https://files.clear.ml/YOLOv8/hyperparameters_tuning.026f1999d00843aa929ab989bbb1895d/models/best.pt\n"
     ]
    },
    {
     "name": "stderr",
     "output_type": "stream",
     "text": [
      "                 Class     Images  Instances      Box(P          R      mAP50  mAP50-95)     Mask(P          R      mAP50  mAP50-95): 100%|██████████| 52/52 [00:16<00:00,  3.18it/s]\n"
     ]
    },
    {
     "name": "stdout",
     "output_type": "stream",
     "text": [
      "2023-02-27 00:58:43,610 - clearml.Task - INFO - Completed model upload to https://files.clear.ml/YOLOv8/hyperparameters_tuning.026f1999d00843aa929ab989bbb1895d/models/best.pt\n"
     ]
    },
    {
     "name": "stderr",
     "output_type": "stream",
     "text": [
      "                   all        205        377      0.877      0.977       0.93      0.824      0.877      0.977       0.93      0.804\n",
      "             Dropiskus        205          9      0.903          1      0.995      0.941      0.903          1      0.995      0.983\n",
      "               Droplet        205        116      0.791      0.991      0.887      0.869      0.791      0.991      0.887      0.814\n",
      "              Miniskus        205         45      0.954      0.911      0.943      0.729      0.954      0.911      0.947      0.806\n",
      "               PipeJet        205        204      0.992          1      0.993       0.99      0.992          1      0.993      0.895\n",
      "              Satellit        205          3      0.746      0.984       0.83      0.592      0.746      0.984       0.83      0.523\n",
      "Speed: 0.4ms pre-process, 7.9ms inference, 0.0ms loss, 1.6ms post-process per image\n",
      "\u001b[32m[I 2023-02-27 00:58:50,282]\u001b[0m Trial 0 finished with value: 0.8242704675473537 and parameters: {'imgsz': 640}. Best is trial 0 with value: 0.8242704675473537.\u001b[0m\n",
      "Ultralytics YOLOv8.0.32  Python-3.8.16 torch-1.13.1 CUDA:0 (NVIDIA GeForce RTX 2060, 6144MiB)\n",
      "\u001b[34m\u001b[1myolo\\engine\\trainer: \u001b[0mtask=segment, mode=train, model=yolov8n-seg.pt, data=e:/yolov8/datasets/test.v1/data.yaml, epochs=1, patience=50, batch=4, imgsz=640, save=True, cache=False, device=None, workers=8, project=None, name=None, exist_ok=False, pretrained=False, optimizer=SGD, verbose=True, seed=0, deterministic=True, single_cls=False, image_weights=False, rect=False, cos_lr=False, close_mosaic=10, resume=False, min_memory=False, overlap_mask=True, mask_ratio=4, dropout=False, val=True, save_json=False, save_hybrid=False, conf=0.001, iou=0.7, max_det=300, half=False, dnn=False, plots=True, source=ultralytics/assets/, show=False, save_txt=False, save_conf=False, save_crop=False, hide_labels=False, hide_conf=False, vid_stride=1, line_thickness=3, visualize=False, augment=False, agnostic_nms=False, classes=None, retina_masks=False, boxes=True, format=torchscript, keras=False, optimize=False, int8=False, dynamic=False, simplify=False, opset=17, workspace=4, nms=False, lr0=0.01, lrf=0.01, momentum=0.937, weight_decay=0.001, warmup_epochs=3.0, warmup_momentum=0.8, warmup_bias_lr=0.1, box=7.5, cls=0.5, dfl=1.5, fl_gamma=0.0, label_smoothing=0.0, nbs=64, hsv_h=0.015, hsv_s=0.7, hsv_v=0.4, degrees=0.0, translate=0.1, scale=0.5, shear=0.0, perspective=0.0, flipud=0.0, fliplr=0.5, mosaic=1.0, mixup=0.0, copy_paste=0.0, cfg=None, v5loader=False, save_dir=runs\\segment\\train44\n",
      "\n",
      "                   from  n    params  module                                       arguments                     \n",
      "  0                  -1  1       464  ultralytics.nn.modules.Conv                  [3, 16, 3, 2]                 \n",
      "  1                  -1  1      4672  ultralytics.nn.modules.Conv                  [16, 32, 3, 2]                \n",
      "  2                  -1  1      7360  ultralytics.nn.modules.C2f                   [32, 32, 1, True]             \n",
      "  3                  -1  1     18560  ultralytics.nn.modules.Conv                  [32, 64, 3, 2]                \n",
      "  4                  -1  2     49664  ultralytics.nn.modules.C2f                   [64, 64, 2, True]             \n",
      "  5                  -1  1     73984  ultralytics.nn.modules.Conv                  [64, 128, 3, 2]               \n",
      "  6                  -1  2    197632  ultralytics.nn.modules.C2f                   [128, 128, 2, True]           \n",
      "  7                  -1  1    295424  ultralytics.nn.modules.Conv                  [128, 256, 3, 2]              \n",
      "  8                  -1  1    460288  ultralytics.nn.modules.C2f                   [256, 256, 1, True]           \n",
      "  9                  -1  1    164608  ultralytics.nn.modules.SPPF                  [256, 256, 5]                 \n",
      " 10                  -1  1         0  torch.nn.modules.upsampling.Upsample         [None, 2, 'nearest']          \n",
      " 11             [-1, 6]  1         0  ultralytics.nn.modules.Concat                [1]                           \n",
      " 12                  -1  1    148224  ultralytics.nn.modules.C2f                   [384, 128, 1]                 \n",
      " 13                  -1  1         0  torch.nn.modules.upsampling.Upsample         [None, 2, 'nearest']          \n",
      " 14             [-1, 4]  1         0  ultralytics.nn.modules.Concat                [1]                           \n",
      " 15                  -1  1     37248  ultralytics.nn.modules.C2f                   [192, 64, 1]                  \n",
      " 16                  -1  1     36992  ultralytics.nn.modules.Conv                  [64, 64, 3, 2]                \n",
      " 17            [-1, 12]  1         0  ultralytics.nn.modules.Concat                [1]                           \n",
      " 18                  -1  1    123648  ultralytics.nn.modules.C2f                   [192, 128, 1]                 \n",
      " 19                  -1  1    147712  ultralytics.nn.modules.Conv                  [128, 128, 3, 2]              \n",
      " 20             [-1, 9]  1         0  ultralytics.nn.modules.Concat                [1]                           \n",
      " 21                  -1  1    493056  ultralytics.nn.modules.C2f                   [384, 256, 1]                 \n",
      " 22        [15, 18, 21]  1   1005055  ultralytics.nn.modules.Segment               [5, 32, 64, [64, 128, 256]]   \n",
      "YOLOv8n-seg summary: 261 layers, 3264591 parameters, 3264575 gradients, 12.1 GFLOPs\n",
      "\n",
      "Transferred 87/417 items from pretrained weights\n",
      "\u001b[34m\u001b[1moptimizer:\u001b[0m SGD(lr=0.01) with parameter groups 66 weight(decay=0.0), 77 weight(decay=0.001), 76 bias\n",
      "\u001b[34m\u001b[1mtrain: \u001b[0mScanning E:\\yolov8\\datasets\\test.v1\\train\\labels.cache... 717 images, 2 backgrounds, 0 corrupt: 100%|██████████| 717/717 [00:00<?, ?it/s]\n",
      "\u001b[34m\u001b[1mval: \u001b[0mScanning E:\\yolov8\\datasets\\test.v1\\valid\\labels.cache... 205 images, 1 backgrounds, 0 corrupt: 100%|██████████| 205/205 [00:00<?, ?it/s]\n",
      "Image sizes 640 train, 640 val\n",
      "Using 4 dataloader workers\n",
      "Logging results to \u001b[1mruns\\segment\\train44\u001b[0m\n",
      "Starting training for 1 epochs...\n",
      "\n",
      "      Epoch    GPU_mem   box_loss   seg_loss   cls_loss   dfl_loss  Instances       Size\n",
      "        1/1     0.854G     0.7444     0.4592     0.7951     0.9549          1        640: 100%|██████████| 180/180 [00:28<00:00,  6.32it/s]\n",
      "                 Class     Images  Instances      Box(P          R      mAP50  mAP50-95)     Mask(P          R      mAP50  mAP50-95): 100%|██████████| 26/26 [00:23<00:00,  1.12it/s]\n",
      "                   all        205        377      0.741      0.921      0.881      0.716      0.763      0.887      0.873       0.66\n",
      "\n",
      "1 epochs completed in 0.025 hours.\n",
      "Optimizer stripped from runs\\segment\\train44\\weights\\last.pt, 6.8MB\n",
      "Optimizer stripped from runs\\segment\\train44\\weights\\best.pt, 6.8MB\n",
      "\n",
      "Validating runs\\segment\\train44\\weights\\best.pt...\n",
      "Ultralytics YOLOv8.0.32  Python-3.8.16 torch-1.13.1 CUDA:0 (NVIDIA GeForce RTX 2060, 6144MiB)\n",
      "YOLOv8n-seg summary (fused): 195 layers, 3259039 parameters, 0 gradients, 12.0 GFLOPs\n",
      "                 Class     Images  Instances      Box(P          R      mAP50  mAP50-95)     Mask(P          R      mAP50  mAP50-95): 100%|██████████| 26/26 [00:21<00:00,  1.20it/s]\n",
      "                   all        205        377      0.745      0.921      0.882      0.717       0.77      0.887      0.875      0.661\n",
      "             Dropiskus        205          9       0.42          1      0.943      0.712      0.476          1      0.984      0.816\n",
      "               Droplet        205        116      0.779      0.983      0.845      0.787       0.78      0.946      0.845      0.791\n",
      "              Miniskus        205         45      0.834      0.622      0.801      0.515       0.87      0.489      0.721      0.336\n",
      "               PipeJet        205        204      0.979          1      0.992       0.96      0.981          1      0.992      0.813\n",
      "              Satellit        205          3      0.714          1       0.83       0.61      0.742          1       0.83      0.548\n",
      "Speed: 0.4ms pre-process, 4.4ms inference, 0.0ms loss, 1.6ms post-process per image\n",
      "Results saved to \u001b[1mruns\\segment\\train44\u001b[0m\n"
     ]
    },
    {
     "name": "stdout",
     "output_type": "stream",
     "text": [
      "2023-02-27 01:01:15,099 - clearml.storage - INFO - Starting upload: runs\\segment\\train44\\weights\\best.pt => https://files.clear.ml/YOLOv8/hyperparameters_tuning.026f1999d00843aa929ab989bbb1895d/models/best.pt\n",
      "2023-02-27 01:01:27,473 - clearml.Task - INFO - Completed model upload to https://files.clear.ml/YOLOv8/hyperparameters_tuning.026f1999d00843aa929ab989bbb1895d/models/best.pt\n",
      "2023-02-27 01:01:27,804 - clearml.Task - INFO - Waiting for previous model to upload (2 pending, https://files.clear.ml/YOLOv8/hyperparameters_tuning.026f1999d00843aa929ab989bbb1895d/models/best.pt)\n",
      "2023-02-27 01:01:28,521 - clearml.storage - INFO - Starting upload: runs\\segment\\train44\\weights\\best.pt => https://files.clear.ml/YOLOv8/hyperparameters_tuning.026f1999d00843aa929ab989bbb1895d/models/best.pt\n",
      "2023-02-27 01:01:41,169 - clearml.Task - INFO - Completed model upload to https://files.clear.ml/YOLOv8/hyperparameters_tuning.026f1999d00843aa929ab989bbb1895d/models/best.pt\n",
      "2023-02-27 01:01:42,199 - clearml.storage - INFO - Starting upload: runs\\segment\\train44\\weights\\best.pt => https://files.clear.ml/YOLOv8/hyperparameters_tuning.026f1999d00843aa929ab989bbb1895d/models/best.pt\n",
      "2023-02-27 01:01:54,566 - clearml.Task - INFO - Completed model upload to https://files.clear.ml/YOLOv8/hyperparameters_tuning.026f1999d00843aa929ab989bbb1895d/models/best.pt\n",
      "2023-02-27 01:02:04,152 - clearml.storage - INFO - Starting upload: runs\\segment\\train44\\weights\\best.pt => https://files.clear.ml/YOLOv8/hyperparameters_tuning.026f1999d00843aa929ab989bbb1895d/models/best.pt\n"
     ]
    },
    {
     "name": "stderr",
     "output_type": "stream",
     "text": [
      "Ultralytics YOLOv8.0.32  Python-3.8.16 torch-1.13.1 CUDA:0 (NVIDIA GeForce RTX 2060, 6144MiB)\n",
      "YOLOv8n-seg summary (fused): 195 layers, 3259039 parameters, 0 gradients, 12.0 GFLOPs\n",
      "\u001b[34m\u001b[1mval: \u001b[0mScanning E:\\yolov8\\datasets\\test.v1\\valid\\labels.cache... 205 images, 1 backgrounds, 0 corrupt: 100%|██████████| 205/205 [00:00<?, ?it/s]\n",
      "                 Class     Images  Instances      Box(P          R      mAP50  mAP50-95)     Mask(P          R      mAP50  mAP50-95):   0%|          | 0/52 [00:00<?, ?it/s]"
     ]
    },
    {
     "name": "stdout",
     "output_type": "stream",
     "text": [
      "2023-02-27 01:02:16,563 - clearml.Task - INFO - Completed model upload to https://files.clear.ml/YOLOv8/hyperparameters_tuning.026f1999d00843aa929ab989bbb1895d/models/best.pt\n",
      "2023-02-27 01:02:17,580 - clearml.storage - INFO - Starting upload: runs\\segment\\train44\\weights\\best.pt => https://files.clear.ml/YOLOv8/hyperparameters_tuning.026f1999d00843aa929ab989bbb1895d/models/best.pt\n"
     ]
    },
    {
     "name": "stderr",
     "output_type": "stream",
     "text": [
      "                 Class     Images  Instances      Box(P          R      mAP50  mAP50-95)     Mask(P          R      mAP50  mAP50-95): 100%|██████████| 52/52 [00:16<00:00,  3.20it/s]\n"
     ]
    },
    {
     "name": "stdout",
     "output_type": "stream",
     "text": [
      "2023-02-27 01:02:30,278 - clearml.Task - INFO - Completed model upload to https://files.clear.ml/YOLOv8/hyperparameters_tuning.026f1999d00843aa929ab989bbb1895d/models/best.pt\n"
     ]
    },
    {
     "name": "stderr",
     "output_type": "stream",
     "text": [
      "                   all        205        377      0.741      0.921       0.88       0.71      0.764      0.887      0.873      0.652\n",
      "             Dropiskus        205          9       0.42          1      0.943      0.712      0.475          1      0.984      0.817\n",
      "               Droplet        205        116      0.779      0.983      0.844       0.79       0.78      0.946      0.844      0.779\n",
      "              Miniskus        205         45      0.812      0.622      0.792      0.508      0.837      0.489      0.713      0.322\n",
      "               PipeJet        205        204      0.983          1      0.992      0.961      0.984          1      0.992      0.796\n",
      "              Satellit        205          3      0.713          1       0.83      0.578      0.741          1       0.83      0.548\n",
      "Speed: 0.6ms pre-process, 7.7ms inference, 0.0ms loss, 1.8ms post-process per image\n",
      "\u001b[32m[I 2023-02-27 01:02:38,594]\u001b[0m Trial 1 finished with value: 0.7097389732408941 and parameters: {'imgsz': 640}. Best is trial 1 with value: 0.7097389732408941.\u001b[0m\n"
     ]
    },
    {
     "name": "stdout",
     "output_type": "stream",
     "text": [
      "{'imgsz': 640}\n"
     ]
    }
   ],
   "source": [
    "import optuna\n",
    "\n",
    "def objective(trial):\n",
    "    \n",
    "    #batch = trial.suggest_int(\"batch\",8,64,step = 8)\n",
    "    \n",
    "    imgsz = trial.suggest_int(\"imgsz\",640,1280, step = 640)\n",
    "    \n",
    "    #optimizer = trial.suggest_categorical(\"optimizer\",['SGD', 'Adam', 'AdamW', 'RMSProp'])\n",
    "    \n",
    "    #lr0 = trial.suggest_float(\"lr0\",0.001,0.002, step = 0.001)\n",
    "    #lrf = trial.suggest_float(\"lrf\",0.001,0.2)\n",
    "    \n",
    "    model.train(data = path_to_data, batch = 4, imgsz = imgsz, epochs = 1)\n",
    "    #model.train(data = path_to_data, batch = 4, imgsz = imgsz, optimizer = optimizer, lr0 = lr0, lrf = lrf,epochs = 1)\n",
    "    \n",
    "    return model.val().box.map\n",
    "\n",
    "study = optuna.create_study()\n",
    "study.optimize(objective,n_trials = 2)\n",
    "\n",
    "best_params = study.best_params\n",
    "print(best_params)"
   ]
  }
 ],
 "metadata": {
  "kernelspec": {
   "display_name": "yolov8",
   "language": "python",
   "name": "python3"
  },
  "language_info": {
   "codemirror_mode": {
    "name": "ipython",
    "version": 3
   },
   "file_extension": ".py",
   "mimetype": "text/x-python",
   "name": "python",
   "nbconvert_exporter": "python",
   "pygments_lexer": "ipython3",
   "version": "3.8.16"
  },
  "orig_nbformat": 4,
  "vscode": {
   "interpreter": {
    "hash": "b0e9a48d013d14649418752ac2a947decd4998b2641da604d6ef704e2811a969"
   }
  }
 },
 "nbformat": 4,
 "nbformat_minor": 2
}
